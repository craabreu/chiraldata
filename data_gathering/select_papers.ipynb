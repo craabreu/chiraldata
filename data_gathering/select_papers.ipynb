{
 "cells": [
  {
   "cell_type": "code",
   "execution_count": 1,
   "metadata": {},
   "outputs": [],
   "source": [
    "import pathlib\n",
    "import requests\n",
    "\n",
    "import pandas as pd\n",
    "\n",
    "from tqdm.notebook import tqdm"
   ]
  },
  {
   "cell_type": "code",
   "execution_count": 2,
   "metadata": {},
   "outputs": [],
   "source": [
    "root_dir = pathlib.Path.cwd().parent"
   ]
  },
  {
   "cell_type": "code",
   "execution_count": null,
   "metadata": {},
   "outputs": [],
   "source": [
    "df = pd.read_csv(root_dir / \"cmrt_database\" / \"All_column_charity.csv\", index_col=0)\n",
    "df.head()"
   ]
  },
  {
   "cell_type": "code",
   "execution_count": 4,
   "metadata": {},
   "outputs": [],
   "source": [
    "def fix_doi(doi):\n",
    "    if doi.endswith(\".\"):\n",
    "        doi = doi[:-1]\n",
    "    if doi.count(\"/\") > 1:\n",
    "        doi = doi.replace(\"/\", \"-\").replace(\"-\", \"/\", 1)\n",
    "    return doi"
   ]
  },
  {
   "cell_type": "code",
   "execution_count": null,
   "metadata": {},
   "outputs": [],
   "source": [
    "cmrt_doi_list = list(set(map(fix_doi, df[\"Literature\"])))\n",
    "cmrt_doi_list[:5]"
   ]
  },
  {
   "cell_type": "code",
   "execution_count": 6,
   "metadata": {},
   "outputs": [],
   "source": [
    "def fetch_bibtex(doi):\n",
    "    \"\"\"\n",
    "    Fetches the BibTeX entry for a given DOI.\n",
    "\n",
    "    Parameters:\n",
    "    - doi (str): The DOI of the paper.\n",
    "\n",
    "    Returns:\n",
    "    - str: The BibTeX entry if successful, otherwise an error message.\n",
    "    \"\"\"\n",
    "    url = f\"http://dx.doi.org/{doi}\"\n",
    "    headers = {\n",
    "        \"Accept\": \"application/x-bibtex;q=1\"\n",
    "    }\n",
    "\n",
    "    try:\n",
    "        response = requests.get(url, headers=headers, allow_redirects=True)\n",
    "\n",
    "        if response.status_code == 200:\n",
    "            return response.text[1:]\n",
    "        else:\n",
    "            return (\n",
    "                f\"Error: Unable to fetch BibTeX for DOI {doi} \"\n",
    "                \"(HTTP {response.status_code})\\n\"\n",
    "            )\n",
    "\n",
    "    except requests.exceptions.RequestException as e:\n",
    "        return f\"Request failed for DOI {doi}: {e}\\n\""
   ]
  },
  {
   "cell_type": "code",
   "execution_count": null,
   "metadata": {},
   "outputs": [],
   "source": [
    "bibfile = root_dir / \"cmrt_database\" / \"cmrt_database.bib\"\n",
    "if bibfile.exists():\n",
    "    bibtex_entries = open(bibfile, \"r\").read().split(\"\\n\\n\")\n",
    "else:\n",
    "    bibtex_entries = [fetch_bibtex(doi) for doi in tqdm(cmrt_doi_list)]\n",
    "    with open(bibfile, \"w\") as f:\n",
    "        f.write(\"\\n\".join(bibtex_entries))"
   ]
  },
  {
   "cell_type": "code",
   "execution_count": null,
   "metadata": {},
   "outputs": [],
   "source": [
    "[entry for entry in bibtex_entries if not entry.startswith(\"@\")]"
   ]
  },
  {
   "cell_type": "code",
   "execution_count": null,
   "metadata": {},
   "outputs": [],
   "source": [
    "authors = []\n",
    "for entry in bibtex_entries:\n",
    "    if entry.startswith(\"@\"):\n",
    "        authors.extend(\n",
    "            entry.split(\"author={\")[1].split(\"}\")[0].replace(\",\", \"\").split(\" and \")\n",
    "        )\n",
    "author_frequency = pd.DataFrame({\"authors\": authors})[\"authors\"].value_counts()\n",
    "author_frequency"
   ]
  },
  {
   "cell_type": "code",
   "execution_count": null,
   "metadata": {},
   "outputs": [],
   "source": [
    "frequent_authors = [\n",
    "    author for author, count in author_frequency.items() if count >= 10\n",
    "]\n",
    "author_query = \"AU=(\" + \" OR \".join(frequent_authors) + \")\"\n",
    "print(author_query)"
   ]
  },
  {
   "cell_type": "markdown",
   "metadata": {},
   "source": [
    "Searched [Web of Science](https://www.webofscience.com/wos/woscc/advanced-search) using the output\n",
    "of the previous cell, finding 76,501 documents. Then, refined by searching the following content\n",
    "within the results:\n",
    "\n",
    "```\n",
    "chiral* OR enantio* OR \"asymmetric cataly*\"\n",
    "```\n",
    "\n",
    "Found 3,485 documents, which were exported as BibTeX (full record, max. 1000 entries per file).\n",
    "\n",
    "The DOIs of these documents were extracted using the command below:\n",
    "\n",
    "```\n",
    "cat savedrecs*.bib | grep 'DOI =' | sed -e 's/DOI = {//' -e 's/},//' > webofscience_search_result.txt\n",
    "```"
   ]
  },
  {
   "cell_type": "code",
   "execution_count": null,
   "metadata": {},
   "outputs": [],
   "source": [
    "webofscience_dois = open(\n",
    "    root_dir / \"data_gathering\" / \"webofscience_search_result.txt\", \"r\"\n",
    ").read().splitlines()\n",
    "len(webofscience_dois)"
   ]
  },
  {
   "cell_type": "code",
   "execution_count": null,
   "metadata": {},
   "outputs": [],
   "source": []
  }
 ],
 "metadata": {
  "kernelspec": {
   "display_name": "chemprop",
   "language": "python",
   "name": "python3"
  },
  "language_info": {
   "codemirror_mode": {
    "name": "ipython",
    "version": 3
   },
   "file_extension": ".py",
   "mimetype": "text/x-python",
   "name": "python",
   "nbconvert_exporter": "python",
   "pygments_lexer": "ipython3",
   "version": "3.12.8"
  }
 },
 "nbformat": 4,
 "nbformat_minor": 2
}
