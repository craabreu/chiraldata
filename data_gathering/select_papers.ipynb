{
 "cells": [
  {
   "cell_type": "code",
   "execution_count": 1,
   "metadata": {},
   "outputs": [],
   "source": [
    "import pathlib\n",
    "import requests\n",
    "\n",
    "import pandas as pandas\n",
    "\n",
    "from tqdm.notebook import tqdm"
   ]
  },
  {
   "cell_type": "code",
   "execution_count": 4,
   "metadata": {},
   "outputs": [],
   "source": [
    "root_dir = pathlib.Path.cwd().parent"
   ]
  },
  {
   "cell_type": "code",
   "execution_count": null,
   "metadata": {},
   "outputs": [],
   "source": [
    "df = pandas.read_csv(root_dir / \"cmrt_database\" / \"All_column_charity.csv\", index_col=0)\n",
    "df.head()"
   ]
  },
  {
   "cell_type": "code",
   "execution_count": null,
   "metadata": {},
   "outputs": [],
   "source": [
    "cmrt_doi_list = list(set(df[\"Literature\"]))\n",
    "cmrt_doi_list"
   ]
  },
  {
   "cell_type": "code",
   "execution_count": 14,
   "metadata": {},
   "outputs": [],
   "source": [
    "def fetch_bibtex(doi):\n",
    "    \"\"\"\n",
    "    Fetches the BibTeX entry for a given DOI.\n",
    "\n",
    "    Parameters:\n",
    "    - doi (str): The DOI of the paper.\n",
    "\n",
    "    Returns:\n",
    "    - str: The BibTeX entry if successful, otherwise an error message.\n",
    "    \"\"\"\n",
    "    url = f\"http://dx.doi.org/{doi}\"\n",
    "    headers = {\n",
    "        \"Accept\": \"application/x-bibtex;q=1\"\n",
    "    }\n",
    "\n",
    "    try:\n",
    "        response = requests.get(url, headers=headers, allow_redirects=True)\n",
    "\n",
    "        if response.status_code == 200:\n",
    "            return response.text[1:]\n",
    "        else:\n",
    "            return (\n",
    "                f\"Error: Unable to fetch BibTeX for DOI {doi} \"\n",
    "                \"(HTTP {response.status_code})\\n\"\n",
    "            )\n",
    "\n",
    "    except requests.exceptions.RequestException as e:\n",
    "        return f\"Request failed for DOI {doi}: {e}\\n\""
   ]
  },
  {
   "cell_type": "code",
   "execution_count": null,
   "metadata": {},
   "outputs": [],
   "source": [
    "bibfile = root_dir / \"cmrt_database\" / \"cmrt_database.bib\"\n",
    "if bibfile.exists():\n",
    "    bibtex_entries = open(bibfile, \"r\").read().split(\"\\n\\n\")\n",
    "else:\n",
    "    bibtex_entries = [fetch_bibtex(doi) for doi in tqdm(cmrt_doi_list)]\n",
    "    with open(bibfile, \"w\") as f:\n",
    "        f.write(\"\\n\\n\".join(bibtex_entries))"
   ]
  },
  {
   "cell_type": "code",
   "execution_count": null,
   "metadata": {},
   "outputs": [],
   "source": []
  }
 ],
 "metadata": {
  "kernelspec": {
   "display_name": "chemprop",
   "language": "python",
   "name": "python3"
  },
  "language_info": {
   "codemirror_mode": {
    "name": "ipython",
    "version": 3
   },
   "file_extension": ".py",
   "mimetype": "text/x-python",
   "name": "python",
   "nbconvert_exporter": "python",
   "pygments_lexer": "ipython3",
   "version": "3.12.8"
  }
 },
 "nbformat": 4,
 "nbformat_minor": 2
}
